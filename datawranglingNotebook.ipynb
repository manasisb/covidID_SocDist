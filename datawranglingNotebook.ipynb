{
 "cells": [
  {
   "cell_type": "code",
   "execution_count": null,
   "metadata": {},
   "outputs": [],
   "source": [
    "import glob as glob\n",
    "import os \n",
    "import shutil"
   ]
  },
  {
   "cell_type": "markdown",
   "metadata": {},
   "source": [
    "# Renaming jpg files"
   ]
  },
  {
   "cell_type": "code",
   "execution_count": null,
   "metadata": {},
   "outputs": [],
   "source": [
    "jpgfiles = glob.glob(\"/Users/manasiweginwar/Desktop/CautionCopy/*.JPG\")"
   ]
  },
  {
   "cell_type": "code",
   "execution_count": null,
   "metadata": {},
   "outputs": [],
   "source": [
    "for file in jpgfiles:\n",
    "    oldname = os.path.basename(file)\n",
    "    oldpath = os.path.dirname(file)\n",
    "#     print(oldname)\n",
    "    if 'Caution' not in oldname:\n",
    "        newfilename = 'Caution' + oldname\n",
    "#         print(oldname)\n",
    "#         print(newfilename)\n",
    "        newfilenamePath = os.path.join(oldpath, newfilename)\n",
    "        print(file, newfilenamePath)\n",
    "        shutil.move(file, newfilenamePath)\n",
    "        "
   ]
  },
  {
   "cell_type": "code",
   "execution_count": null,
   "metadata": {},
   "outputs": [],
   "source": [
    "import xml.dom.minidom as md "
   ]
  },
  {
   "cell_type": "code",
   "execution_count": null,
   "metadata": {},
   "outputs": [],
   "source": [
    "xmlfiles = glob.glob(\"/Users/manasiweginwar/Desktop/Caution_xmlfilesCopy/*.xml\")\n",
    "xmlfiles"
   ]
  },
  {
   "cell_type": "code",
   "execution_count": null,
   "metadata": {},
   "outputs": [],
   "source": [
    "file = md.parse(xmlfiles[0])"
   ]
  },
  {
   "cell_type": "code",
   "execution_count": null,
   "metadata": {},
   "outputs": [],
   "source": [
    "for filename in xmlfiles:\n",
    "    file = md.parse(filename)\n",
    "    oldvalue = file.getElementsByTagName(\"filename\")[0].childNodes[0].nodeValue\n",
    "    newval = \"Caution\" + oldvalue\n",
    "    file.getElementsByTagName(\"filename\")[0].childNodes[0].nodeValue = newval\n",
    "    # print(file.getElementsByTagName(\"filename\")[0].childNodes[0].nodeValue)\n",
    "    #edit path\n",
    "    oldpath = file.getElementsByTagName(\"path\")[0].childNodes[0].nodeValue\n",
    "    newpath = os.path.join(os.path.dirname(oldpath), \"Caution\"+oldpath.split('/')[-1])\n",
    "    # newpath = \"Caution\" + oldpath\n",
    "    # file.getElementsByTagName(\"path\")[0].childNodes[0].nodeValue = newpath\n",
    "    print(newpath)\n",
    "    file.getElementsByTagName(\"path\")[0].childNodes[0].nodeValue = newpath\n",
    "    with open(filename, \"w\" ) as fs:  \n",
    "        fs.write( file.toxml() ) \n",
    "        fs.close() "
   ]
  },
  {
   "cell_type": "code",
   "execution_count": null,
   "metadata": {},
   "outputs": [],
   "source": [
    "with open(\"/Users/manasiweginwar/Downloads/testxml\", \"w\" ) as fs:  \n",
    "        fs.write( file.toxml() ) \n",
    "        fs.close() "
   ]
  },
  {
   "cell_type": "code",
   "execution_count": null,
   "metadata": {},
   "outputs": [],
   "source": [
    "print(file.getElementsByTagName(\"path\")[0].childNodes[0].nodeValue)\n",
    "print(file.getElementsByTagName(\"filename\")[0].childNodes[0].nodeValue)\n"
   ]
  },
  {
   "cell_type": "markdown",
   "metadata": {},
   "source": [
    "# Renaming xml filenames"
   ]
  },
  {
   "cell_type": "code",
   "execution_count": null,
   "metadata": {},
   "outputs": [],
   "source": [
    "xmlfiles = glob.glob(\"/Users/manasiweginwar/Desktop/Caution_xmlfilesCopy/*.xml\")"
   ]
  },
  {
   "cell_type": "code",
   "execution_count": null,
   "metadata": {},
   "outputs": [],
   "source": [
    "for file in xmlfiles:\n",
    "    oldname = os.path.basename(file)\n",
    "    oldpath = os.path.dirname(file)\n",
    "#     print(oldname)\n",
    "    if 'Caution' not in oldname:\n",
    "        newfilename = 'Caution' + oldname\n",
    "#         print(oldname)\n",
    "#         print(newfilename)\n",
    "        newfilenamePath = os.path.join(oldpath, newfilename)\n",
    "#         print(file, newfilenamePath)\n",
    "#         shutil.move(file, newfilenamePath)\n",
    "        "
   ]
  },
  {
   "cell_type": "markdown",
   "metadata": {},
   "source": [
    "# Editing XML file content"
   ]
  },
  {
   "cell_type": "code",
   "execution_count": null,
   "metadata": {},
   "outputs": [],
   "source": [
    "for filename in xmlfiles:\n",
    "    file = md.parse(filename)\n",
    "    oldvalue = file.getElementsByTagName(\"filename\")[0].childNodes[0].nodeValue\n",
    "    newval = \"Caution\" + oldvalue\n",
    "    file.getElementsByTagName(\"filename\")[0].childNodes[0].nodeValue = newval\n",
    "    # print(file.getElementsByTagName(\"filename\")[0].childNodes[0].nodeValue)\n",
    "    #edit path\n",
    "    oldpath = file.getElementsByTagName(\"path\")[0].childNodes[0].nodeValue\n",
    "    newpath = os.path.join(os.path.dirname(oldpath), \"Caution\"+oldpath.split('/')[-1])\n",
    "    # newpath = \"Caution\" + oldpath\n",
    "    # file.getElementsByTagName(\"path\")[0].childNodes[0].nodeValue = newpath\n",
    "#     print(newpath)\n",
    "    file.getElementsByTagName(\"path\")[0].childNodes[0].nodeValue = newpath\n",
    "#     print(\"XML path tag value:\", file.getElementsByTagName(\"path\")[0].childNodes[0].nodeValue)\n",
    "#     print(\"jpg filename: \", file.getElementsByTagName(\"filename\")[0].childNodes[0].nodeValue)\n",
    "#     print(\"xmlfilepath: \",filename)\n",
    "    with open(filename, \"w\" ) as fs:  \n",
    "        fs.write(file.toxml()) \n",
    "        fs.close() "
   ]
  },
  {
   "cell_type": "code",
   "execution_count": null,
   "metadata": {},
   "outputs": [],
   "source": [
    "oldcaution = glob.glob(\"/Users/manasiweginwar/Desktop/Caution/*\")\n",
    "xmlcaution = glob.glob(\"/Users/manasiweginwar/Desktop/Caution_xmlfilesCopy/*\")"
   ]
  },
  {
   "cell_type": "code",
   "execution_count": null,
   "metadata": {},
   "outputs": [],
   "source": [
    "xmlcaution = [os.path.basename(f).split(\".\")[0] for f in xmlcaution]\n",
    "oldcaution = [os.path.basename(f).split(\".\")[0] for f in oldcaution]\n",
    "# print(\"xmlfile:\", xmlcaution[0])\n",
    "# print(\"oldcaution:\", oldcaution[0])"
   ]
  },
  {
   "cell_type": "code",
   "execution_count": null,
   "metadata": {},
   "outputs": [],
   "source": [
    "# for fi in xmlcaution:\n",
    "#     if fi not in oldcaution:\n",
    "#         print(fi)"
   ]
  },
  {
   "cell_type": "code",
   "execution_count": null,
   "metadata": {},
   "outputs": [],
   "source": []
  }
 ],
 "metadata": {
  "kernelspec": {
   "display_name": "Python 3",
   "language": "python",
   "name": "python3"
  },
  "language_info": {
   "codemirror_mode": {
    "name": "ipython",
    "version": 3
   },
   "file_extension": ".py",
   "mimetype": "text/x-python",
   "name": "python",
   "nbconvert_exporter": "python",
   "pygments_lexer": "ipython3",
   "version": "3.7.6"
  }
 },
 "nbformat": 4,
 "nbformat_minor": 4
}
