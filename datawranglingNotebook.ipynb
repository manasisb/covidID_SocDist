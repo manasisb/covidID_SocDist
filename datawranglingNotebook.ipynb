{
 "cells": [
  {
   "cell_type": "code",
   "execution_count": 1,
   "metadata": {},
   "outputs": [],
   "source": [
    "import glob as glob\n",
    "import os \n",
    "import shutil"
   ]
  },
  {
   "cell_type": "code",
   "execution_count": 17,
   "metadata": {},
   "outputs": [],
   "source": [
    "jpgfiles = glob.glob(\"/Users/manasiweginwar/Desktop/CautionCopy/*.JPG\")"
   ]
  },
  {
   "cell_type": "code",
   "execution_count": 18,
   "metadata": {},
   "outputs": [
    {
     "data": {
      "text/plain": [
       "['/Users/manasiweginwar/Desktop/CautionCopy/73.JPG',\n",
       " '/Users/manasiweginwar/Desktop/CautionCopy/Caution20.JPG',\n",
       " '/Users/manasiweginwar/Desktop/CautionCopy/Caution21.JPG',\n",
       " '/Users/manasiweginwar/Desktop/CautionCopy/Caution23.JPG',\n",
       " '/Users/manasiweginwar/Desktop/CautionCopy/Caution22.JPG',\n",
       " '/Users/manasiweginwar/Desktop/CautionCopy/Caution25.JPG',\n",
       " '/Users/manasiweginwar/Desktop/CautionCopy/Caution19.JPG',\n",
       " '/Users/manasiweginwar/Desktop/CautionCopy/Caution24.JPG',\n",
       " '/Users/manasiweginwar/Desktop/CautionCopy/81.JPG',\n",
       " '/Users/manasiweginwar/Desktop/CautionCopy/80.JPG',\n",
       " '/Users/manasiweginwar/Desktop/CautionCopy/82.JPG',\n",
       " '/Users/manasiweginwar/Desktop/CautionCopy/68.JPG',\n",
       " '/Users/manasiweginwar/Desktop/CautionCopy/79.JPG']"
      ]
     },
     "execution_count": 18,
     "metadata": {},
     "output_type": "execute_result"
    }
   ],
   "source": [
    "jpgfiles"
   ]
  },
  {
   "cell_type": "code",
   "execution_count": 19,
   "metadata": {},
   "outputs": [
    {
     "name": "stdout",
     "output_type": "stream",
     "text": [
      "/Users/manasiweginwar/Desktop/CautionCopy/73.JPG /Users/manasiweginwar/Desktop/CautionCopy/Caution73.JPG\n",
      "/Users/manasiweginwar/Desktop/CautionCopy/81.JPG /Users/manasiweginwar/Desktop/CautionCopy/Caution81.JPG\n",
      "/Users/manasiweginwar/Desktop/CautionCopy/80.JPG /Users/manasiweginwar/Desktop/CautionCopy/Caution80.JPG\n",
      "/Users/manasiweginwar/Desktop/CautionCopy/82.JPG /Users/manasiweginwar/Desktop/CautionCopy/Caution82.JPG\n",
      "/Users/manasiweginwar/Desktop/CautionCopy/68.JPG /Users/manasiweginwar/Desktop/CautionCopy/Caution68.JPG\n",
      "/Users/manasiweginwar/Desktop/CautionCopy/79.JPG /Users/manasiweginwar/Desktop/CautionCopy/Caution79.JPG\n"
     ]
    }
   ],
   "source": [
    "for file in jpgfiles:\n",
    "    oldname = os.path.basename(file)\n",
    "    oldpath = os.path.dirname(file)\n",
    "#     print(oldname)\n",
    "    if 'Caution' not in oldname:\n",
    "        newfilename = 'Caution' + oldname\n",
    "#         print(oldname)\n",
    "#         print(newfilename)\n",
    "        newfilenamePath = os.path.join(oldpath, newfilename)\n",
    "        print(file, newfilenamePath)\n",
    "        shutil.move(file, newfilenamePath)\n",
    "        "
   ]
  },
  {
   "cell_type": "code",
   "execution_count": 22,
   "metadata": {},
   "outputs": [],
   "source": [
    "import xml.dom.minidom as md "
   ]
  },
  {
   "cell_type": "code",
   "execution_count": 23,
   "metadata": {},
   "outputs": [
    {
     "data": {
      "text/plain": [
       "['/Users/manasiweginwar/Desktop/Caution_xmlfilesCopy/162.xml',\n",
       " '/Users/manasiweginwar/Desktop/Caution_xmlfilesCopy/88.xml',\n",
       " '/Users/manasiweginwar/Desktop/Caution_xmlfilesCopy/176.xml',\n",
       " '/Users/manasiweginwar/Desktop/Caution_xmlfilesCopy/63.xml',\n",
       " '/Users/manasiweginwar/Desktop/Caution_xmlfilesCopy/77.xml',\n",
       " '/Users/manasiweginwar/Desktop/Caution_xmlfilesCopy/189.xml',\n",
       " '/Users/manasiweginwar/Desktop/Caution_xmlfilesCopy/214.xml',\n",
       " '/Users/manasiweginwar/Desktop/Caution_xmlfilesCopy/200.xml',\n",
       " '/Users/manasiweginwar/Desktop/Caution_xmlfilesCopy/228.xml',\n",
       " '/Users/manasiweginwar/Desktop/Caution_xmlfilesCopy/229.xml',\n",
       " '/Users/manasiweginwar/Desktop/Caution_xmlfilesCopy/201.xml',\n",
       " '/Users/manasiweginwar/Desktop/Caution_xmlfilesCopy/215.xml',\n",
       " '/Users/manasiweginwar/Desktop/Caution_xmlfilesCopy/76.xml',\n",
       " '/Users/manasiweginwar/Desktop/Caution_xmlfilesCopy/188.xml',\n",
       " '/Users/manasiweginwar/Desktop/Caution_xmlfilesCopy/62.xml',\n",
       " '/Users/manasiweginwar/Desktop/Caution_xmlfilesCopy/89.xml',\n",
       " '/Users/manasiweginwar/Desktop/Caution_xmlfilesCopy/177.xml',\n",
       " '/Users/manasiweginwar/Desktop/Caution_xmlfilesCopy/163.xml',\n",
       " '/Users/manasiweginwar/Desktop/Caution_xmlfilesCopy/175.xml',\n",
       " '/Users/manasiweginwar/Desktop/Caution_xmlfilesCopy/161.xml',\n",
       " '/Users/manasiweginwar/Desktop/Caution_xmlfilesCopy/149.xml',\n",
       " '/Users/manasiweginwar/Desktop/Caution_xmlfilesCopy/48.xml',\n",
       " '/Users/manasiweginwar/Desktop/Caution_xmlfilesCopy/74.xml',\n",
       " '/Users/manasiweginwar/Desktop/Caution_xmlfilesCopy/60.xml',\n",
       " '/Users/manasiweginwar/Desktop/Caution_xmlfilesCopy/203.xml',\n",
       " '/Users/manasiweginwar/Desktop/Caution_xmlfilesCopy/217.xml',\n",
       " '/Users/manasiweginwar/Desktop/Caution_xmlfilesCopy/202.xml',\n",
       " '/Users/manasiweginwar/Desktop/Caution_xmlfilesCopy/61.xml',\n",
       " '/Users/manasiweginwar/Desktop/Caution_xmlfilesCopy/75.xml',\n",
       " '/Users/manasiweginwar/Desktop/Caution_xmlfilesCopy/49.xml',\n",
       " '/Users/manasiweginwar/Desktop/Caution_xmlfilesCopy/148.xml',\n",
       " '/Users/manasiweginwar/Desktop/Caution_xmlfilesCopy/160.xml',\n",
       " '/Users/manasiweginwar/Desktop/Caution_xmlfilesCopy/174.xml',\n",
       " '/Users/manasiweginwar/Desktop/Caution_xmlfilesCopy/158.xml',\n",
       " '/Users/manasiweginwar/Desktop/Caution_xmlfilesCopy/170.xml',\n",
       " '/Users/manasiweginwar/Desktop/Caution_xmlfilesCopy/164.xml',\n",
       " '/Users/manasiweginwar/Desktop/Caution_xmlfilesCopy/71.xml',\n",
       " '/Users/manasiweginwar/Desktop/Caution_xmlfilesCopy/65.xml',\n",
       " '/Users/manasiweginwar/Desktop/Caution_xmlfilesCopy/59.xml',\n",
       " '/Users/manasiweginwar/Desktop/Caution_xmlfilesCopy/206.xml',\n",
       " '/Users/manasiweginwar/Desktop/Caution_xmlfilesCopy/212.xml',\n",
       " '/Users/manasiweginwar/Desktop/Caution_xmlfilesCopy/213.xml',\n",
       " '/Users/manasiweginwar/Desktop/Caution_xmlfilesCopy/207.xml',\n",
       " '/Users/manasiweginwar/Desktop/Caution_xmlfilesCopy/58.xml',\n",
       " '/Users/manasiweginwar/Desktop/Caution_xmlfilesCopy/64.xml',\n",
       " '/Users/manasiweginwar/Desktop/Caution_xmlfilesCopy/70.xml',\n",
       " '/Users/manasiweginwar/Desktop/Caution_xmlfilesCopy/165.xml',\n",
       " '/Users/manasiweginwar/Desktop/Caution_xmlfilesCopy/171.xml',\n",
       " '/Users/manasiweginwar/Desktop/Caution_xmlfilesCopy/159.xml',\n",
       " '/Users/manasiweginwar/Desktop/Caution_xmlfilesCopy/99.xml',\n",
       " '/Users/manasiweginwar/Desktop/Caution_xmlfilesCopy/167.xml',\n",
       " '/Users/manasiweginwar/Desktop/Caution_xmlfilesCopy/173.xml',\n",
       " '/Users/manasiweginwar/Desktop/Caution_xmlfilesCopy/66.xml',\n",
       " '/Users/manasiweginwar/Desktop/Caution_xmlfilesCopy/198.xml',\n",
       " '/Users/manasiweginwar/Desktop/Caution_xmlfilesCopy/72.xml',\n",
       " '/Users/manasiweginwar/Desktop/Caution_xmlfilesCopy/8.xml',\n",
       " '/Users/manasiweginwar/Desktop/Caution_xmlfilesCopy/239.xml',\n",
       " '/Users/manasiweginwar/Desktop/Caution_xmlfilesCopy/211.xml',\n",
       " '/Users/manasiweginwar/Desktop/Caution_xmlfilesCopy/205.xml',\n",
       " '/Users/manasiweginwar/Desktop/Caution_xmlfilesCopy/204.xml',\n",
       " '/Users/manasiweginwar/Desktop/Caution_xmlfilesCopy/210.xml',\n",
       " '/Users/manasiweginwar/Desktop/Caution_xmlfilesCopy/238.xml',\n",
       " '/Users/manasiweginwar/Desktop/Caution_xmlfilesCopy/9.xml',\n",
       " '/Users/manasiweginwar/Desktop/Caution_xmlfilesCopy/73.xml',\n",
       " '/Users/manasiweginwar/Desktop/Caution_xmlfilesCopy/67.xml',\n",
       " '/Users/manasiweginwar/Desktop/Caution_xmlfilesCopy/199.xml',\n",
       " '/Users/manasiweginwar/Desktop/Caution_xmlfilesCopy/172.xml',\n",
       " '/Users/manasiweginwar/Desktop/Caution_xmlfilesCopy/98.xml',\n",
       " '/Users/manasiweginwar/Desktop/Caution_xmlfilesCopy/166.xml',\n",
       " '/Users/manasiweginwar/Desktop/Caution_xmlfilesCopy/101.xml',\n",
       " '/Users/manasiweginwar/Desktop/Caution_xmlfilesCopy/Caution9.xml',\n",
       " '/Users/manasiweginwar/Desktop/Caution_xmlfilesCopy/115.xml',\n",
       " '/Users/manasiweginwar/Desktop/Caution_xmlfilesCopy/129.xml',\n",
       " '/Users/manasiweginwar/Desktop/Caution_xmlfilesCopy/Caution20.xml',\n",
       " '/Users/manasiweginwar/Desktop/Caution_xmlfilesCopy/28.xml',\n",
       " '/Users/manasiweginwar/Desktop/Caution_xmlfilesCopy/14.xml',\n",
       " '/Users/manasiweginwar/Desktop/Caution_xmlfilesCopy/15.xml',\n",
       " '/Users/manasiweginwar/Desktop/Caution_xmlfilesCopy/Caution21.xml',\n",
       " '/Users/manasiweginwar/Desktop/Caution_xmlfilesCopy/29.xml',\n",
       " '/Users/manasiweginwar/Desktop/Caution_xmlfilesCopy/128.xml',\n",
       " '/Users/manasiweginwar/Desktop/Caution_xmlfilesCopy/114.xml',\n",
       " '/Users/manasiweginwar/Desktop/Caution_xmlfilesCopy/Caution8.xml',\n",
       " '/Users/manasiweginwar/Desktop/Caution_xmlfilesCopy/100.xml',\n",
       " '/Users/manasiweginwar/Desktop/Caution_xmlfilesCopy/116.xml',\n",
       " '/Users/manasiweginwar/Desktop/Caution_xmlfilesCopy/102.xml',\n",
       " '/Users/manasiweginwar/Desktop/Caution_xmlfilesCopy/Caution23.xml',\n",
       " '/Users/manasiweginwar/Desktop/Caution_xmlfilesCopy/17.xml',\n",
       " '/Users/manasiweginwar/Desktop/Caution_xmlfilesCopy/248.xml',\n",
       " '/Users/manasiweginwar/Desktop/Caution_xmlfilesCopy/249.xml',\n",
       " '/Users/manasiweginwar/Desktop/Caution_xmlfilesCopy/16.xml',\n",
       " '/Users/manasiweginwar/Desktop/Caution_xmlfilesCopy/Caution22.xml',\n",
       " '/Users/manasiweginwar/Desktop/Caution_xmlfilesCopy/103.xml',\n",
       " '/Users/manasiweginwar/Desktop/Caution_xmlfilesCopy/117.xml',\n",
       " '/Users/manasiweginwar/Desktop/Caution_xmlfilesCopy/113.xml',\n",
       " '/Users/manasiweginwar/Desktop/Caution_xmlfilesCopy/107.xml',\n",
       " '/Users/manasiweginwar/Desktop/Caution_xmlfilesCopy/12.xml',\n",
       " '/Users/manasiweginwar/Desktop/Caution_xmlfilesCopy/Caution26.xml',\n",
       " '/Users/manasiweginwar/Desktop/Caution_xmlfilesCopy/Caution27.xml',\n",
       " '/Users/manasiweginwar/Desktop/Caution_xmlfilesCopy/13.xml',\n",
       " '/Users/manasiweginwar/Desktop/Caution_xmlfilesCopy/106.xml',\n",
       " '/Users/manasiweginwar/Desktop/Caution_xmlfilesCopy/112.xml',\n",
       " '/Users/manasiweginwar/Desktop/Caution_xmlfilesCopy/138.xml',\n",
       " '/Users/manasiweginwar/Desktop/Caution_xmlfilesCopy/104.xml',\n",
       " '/Users/manasiweginwar/Desktop/Caution_xmlfilesCopy/110.xml',\n",
       " '/Users/manasiweginwar/Desktop/Caution_xmlfilesCopy/11.xml',\n",
       " '/Users/manasiweginwar/Desktop/Caution_xmlfilesCopy/Caution19.xml',\n",
       " '/Users/manasiweginwar/Desktop/Caution_xmlfilesCopy/39.xml',\n",
       " '/Users/manasiweginwar/Desktop/Caution_xmlfilesCopy/Caution25.xml',\n",
       " '/Users/manasiweginwar/Desktop/Caution_xmlfilesCopy/Caution24.xml',\n",
       " '/Users/manasiweginwar/Desktop/Caution_xmlfilesCopy/Caution30.xml',\n",
       " '/Users/manasiweginwar/Desktop/Caution_xmlfilesCopy/38.xml',\n",
       " '/Users/manasiweginwar/Desktop/Caution_xmlfilesCopy/10.xml',\n",
       " '/Users/manasiweginwar/Desktop/Caution_xmlfilesCopy/Caution18.xml',\n",
       " '/Users/manasiweginwar/Desktop/Caution_xmlfilesCopy/111.xml',\n",
       " '/Users/manasiweginwar/Desktop/Caution_xmlfilesCopy/105.xml',\n",
       " '/Users/manasiweginwar/Desktop/Caution_xmlfilesCopy/139.xml',\n",
       " '/Users/manasiweginwar/Desktop/Caution_xmlfilesCopy/120.xml',\n",
       " '/Users/manasiweginwar/Desktop/Caution_xmlfilesCopy/134.xml',\n",
       " '/Users/manasiweginwar/Desktop/Caution_xmlfilesCopy/108.xml',\n",
       " '/Users/manasiweginwar/Desktop/Caution_xmlfilesCopy/Caution15.xml',\n",
       " '/Users/manasiweginwar/Desktop/Caution_xmlfilesCopy/21.xml',\n",
       " '/Users/manasiweginwar/Desktop/Caution_xmlfilesCopy/Caution29.xml',\n",
       " '/Users/manasiweginwar/Desktop/Caution_xmlfilesCopy/35.xml',\n",
       " '/Users/manasiweginwar/Desktop/Caution_xmlfilesCopy/242.xml',\n",
       " '/Users/manasiweginwar/Desktop/Caution_xmlfilesCopy/243.xml',\n",
       " '/Users/manasiweginwar/Desktop/Caution_xmlfilesCopy/34.xml',\n",
       " '/Users/manasiweginwar/Desktop/Caution_xmlfilesCopy/20.xml',\n",
       " '/Users/manasiweginwar/Desktop/Caution_xmlfilesCopy/Caution28.xml',\n",
       " '/Users/manasiweginwar/Desktop/Caution_xmlfilesCopy/Caution14.xml',\n",
       " '/Users/manasiweginwar/Desktop/Caution_xmlfilesCopy/Caution1.xml',\n",
       " '/Users/manasiweginwar/Desktop/Caution_xmlfilesCopy/109.xml',\n",
       " '/Users/manasiweginwar/Desktop/Caution_xmlfilesCopy/135.xml',\n",
       " '/Users/manasiweginwar/Desktop/Caution_xmlfilesCopy/121.xml',\n",
       " '/Users/manasiweginwar/Desktop/Caution_xmlfilesCopy/137.xml',\n",
       " '/Users/manasiweginwar/Desktop/Caution_xmlfilesCopy/123.xml',\n",
       " '/Users/manasiweginwar/Desktop/Caution_xmlfilesCopy/Caution3.xml',\n",
       " '/Users/manasiweginwar/Desktop/Caution_xmlfilesCopy/Caution16.xml',\n",
       " '/Users/manasiweginwar/Desktop/Caution_xmlfilesCopy/36.xml',\n",
       " '/Users/manasiweginwar/Desktop/Caution_xmlfilesCopy/22.xml',\n",
       " '/Users/manasiweginwar/Desktop/Caution_xmlfilesCopy/241.xml',\n",
       " '/Users/manasiweginwar/Desktop/Caution_xmlfilesCopy/240.xml',\n",
       " '/Users/manasiweginwar/Desktop/Caution_xmlfilesCopy/23.xml',\n",
       " '/Users/manasiweginwar/Desktop/Caution_xmlfilesCopy/37.xml',\n",
       " '/Users/manasiweginwar/Desktop/Caution_xmlfilesCopy/Caution17.xml',\n",
       " '/Users/manasiweginwar/Desktop/Caution_xmlfilesCopy/Caution2.xml',\n",
       " '/Users/manasiweginwar/Desktop/Caution_xmlfilesCopy/122.xml',\n",
       " '/Users/manasiweginwar/Desktop/Caution_xmlfilesCopy/136.xml',\n",
       " '/Users/manasiweginwar/Desktop/Caution_xmlfilesCopy/Caution6.xml',\n",
       " '/Users/manasiweginwar/Desktop/Caution_xmlfilesCopy/132.xml',\n",
       " '/Users/manasiweginwar/Desktop/Caution_xmlfilesCopy/126.xml',\n",
       " '/Users/manasiweginwar/Desktop/Caution_xmlfilesCopy/33.xml',\n",
       " '/Users/manasiweginwar/Desktop/Caution_xmlfilesCopy/27.xml',\n",
       " '/Users/manasiweginwar/Desktop/Caution_xmlfilesCopy/Caution13.xml',\n",
       " '/Users/manasiweginwar/Desktop/Caution_xmlfilesCopy/244.xml',\n",
       " '/Users/manasiweginwar/Desktop/Caution_xmlfilesCopy/250.xml',\n",
       " '/Users/manasiweginwar/Desktop/Caution_xmlfilesCopy/245.xml',\n",
       " '/Users/manasiweginwar/Desktop/Caution_xmlfilesCopy/Caution12.xml',\n",
       " '/Users/manasiweginwar/Desktop/Caution_xmlfilesCopy/26.xml',\n",
       " '/Users/manasiweginwar/Desktop/Caution_xmlfilesCopy/32.xml',\n",
       " '/Users/manasiweginwar/Desktop/Caution_xmlfilesCopy/127.xml',\n",
       " '/Users/manasiweginwar/Desktop/Caution_xmlfilesCopy/133.xml',\n",
       " '/Users/manasiweginwar/Desktop/Caution_xmlfilesCopy/Caution7.xml',\n",
       " '/Users/manasiweginwar/Desktop/Caution_xmlfilesCopy/119.xml',\n",
       " '/Users/manasiweginwar/Desktop/Caution_xmlfilesCopy/Caution5.xml',\n",
       " '/Users/manasiweginwar/Desktop/Caution_xmlfilesCopy/125.xml',\n",
       " '/Users/manasiweginwar/Desktop/Caution_xmlfilesCopy/131.xml',\n",
       " '/Users/manasiweginwar/Desktop/Caution_xmlfilesCopy/24.xml',\n",
       " '/Users/manasiweginwar/Desktop/Caution_xmlfilesCopy/30.xml',\n",
       " '/Users/manasiweginwar/Desktop/Caution_xmlfilesCopy/Caution10.xml',\n",
       " '/Users/manasiweginwar/Desktop/Caution_xmlfilesCopy/18.xml',\n",
       " '/Users/manasiweginwar/Desktop/Caution_xmlfilesCopy/247.xml',\n",
       " '/Users/manasiweginwar/Desktop/Caution_xmlfilesCopy/246.xml',\n",
       " '/Users/manasiweginwar/Desktop/Caution_xmlfilesCopy/Caution11.xml',\n",
       " '/Users/manasiweginwar/Desktop/Caution_xmlfilesCopy/19.xml',\n",
       " '/Users/manasiweginwar/Desktop/Caution_xmlfilesCopy/31.xml',\n",
       " '/Users/manasiweginwar/Desktop/Caution_xmlfilesCopy/25.xml',\n",
       " '/Users/manasiweginwar/Desktop/Caution_xmlfilesCopy/130.xml',\n",
       " '/Users/manasiweginwar/Desktop/Caution_xmlfilesCopy/124.xml',\n",
       " '/Users/manasiweginwar/Desktop/Caution_xmlfilesCopy/Caution4.xml',\n",
       " '/Users/manasiweginwar/Desktop/Caution_xmlfilesCopy/118.xml',\n",
       " '/Users/manasiweginwar/Desktop/Caution_xmlfilesCopy/143.xml',\n",
       " '/Users/manasiweginwar/Desktop/Caution_xmlfilesCopy/157.xml',\n",
       " '/Users/manasiweginwar/Desktop/Caution_xmlfilesCopy/81.xml',\n",
       " '/Users/manasiweginwar/Desktop/Caution_xmlfilesCopy/95.xml',\n",
       " '/Users/manasiweginwar/Desktop/Caution_xmlfilesCopy/180.xml',\n",
       " '/Users/manasiweginwar/Desktop/Caution_xmlfilesCopy/194.xml',\n",
       " '/Users/manasiweginwar/Desktop/Caution_xmlfilesCopy/42.xml',\n",
       " '/Users/manasiweginwar/Desktop/Caution_xmlfilesCopy/56.xml',\n",
       " '/Users/manasiweginwar/Desktop/Caution_xmlfilesCopy/4.xml',\n",
       " '/Users/manasiweginwar/Desktop/Caution_xmlfilesCopy/235.xml',\n",
       " '/Users/manasiweginwar/Desktop/Caution_xmlfilesCopy/221.xml',\n",
       " '/Users/manasiweginwar/Desktop/Caution_xmlfilesCopy/209.xml',\n",
       " '/Users/manasiweginwar/Desktop/Caution_xmlfilesCopy/208.xml',\n",
       " '/Users/manasiweginwar/Desktop/Caution_xmlfilesCopy/220.xml',\n",
       " '/Users/manasiweginwar/Desktop/Caution_xmlfilesCopy/234.xml',\n",
       " '/Users/manasiweginwar/Desktop/Caution_xmlfilesCopy/57.xml',\n",
       " '/Users/manasiweginwar/Desktop/Caution_xmlfilesCopy/5.xml',\n",
       " '/Users/manasiweginwar/Desktop/Caution_xmlfilesCopy/43.xml',\n",
       " '/Users/manasiweginwar/Desktop/Caution_xmlfilesCopy/195.xml',\n",
       " '/Users/manasiweginwar/Desktop/Caution_xmlfilesCopy/94.xml',\n",
       " '/Users/manasiweginwar/Desktop/Caution_xmlfilesCopy/80.xml',\n",
       " '/Users/manasiweginwar/Desktop/Caution_xmlfilesCopy/156.xml',\n",
       " '/Users/manasiweginwar/Desktop/Caution_xmlfilesCopy/142.xml',\n",
       " '/Users/manasiweginwar/Desktop/Caution_xmlfilesCopy/154.xml',\n",
       " '/Users/manasiweginwar/Desktop/Caution_xmlfilesCopy/140.xml',\n",
       " '/Users/manasiweginwar/Desktop/Caution_xmlfilesCopy/168.xml',\n",
       " '/Users/manasiweginwar/Desktop/Caution_xmlfilesCopy/96.xml',\n",
       " '/Users/manasiweginwar/Desktop/Caution_xmlfilesCopy/82.xml',\n",
       " '/Users/manasiweginwar/Desktop/Caution_xmlfilesCopy/197.xml',\n",
       " '/Users/manasiweginwar/Desktop/Caution_xmlfilesCopy/69.xml',\n",
       " '/Users/manasiweginwar/Desktop/Caution_xmlfilesCopy/183.xml',\n",
       " '/Users/manasiweginwar/Desktop/Caution_xmlfilesCopy/7.xml',\n",
       " '/Users/manasiweginwar/Desktop/Caution_xmlfilesCopy/55.xml',\n",
       " '/Users/manasiweginwar/Desktop/Caution_xmlfilesCopy/41.xml',\n",
       " '/Users/manasiweginwar/Desktop/Caution_xmlfilesCopy/222.xml',\n",
       " '/Users/manasiweginwar/Desktop/Caution_xmlfilesCopy/236.xml',\n",
       " '/Users/manasiweginwar/Desktop/Caution_xmlfilesCopy/237.xml',\n",
       " '/Users/manasiweginwar/Desktop/Caution_xmlfilesCopy/223.xml',\n",
       " '/Users/manasiweginwar/Desktop/Caution_xmlfilesCopy/40.xml',\n",
       " '/Users/manasiweginwar/Desktop/Caution_xmlfilesCopy/6.xml',\n",
       " '/Users/manasiweginwar/Desktop/Caution_xmlfilesCopy/54.xml',\n",
       " '/Users/manasiweginwar/Desktop/Caution_xmlfilesCopy/182.xml',\n",
       " '/Users/manasiweginwar/Desktop/Caution_xmlfilesCopy/196.xml',\n",
       " '/Users/manasiweginwar/Desktop/Caution_xmlfilesCopy/68.xml',\n",
       " '/Users/manasiweginwar/Desktop/Caution_xmlfilesCopy/83.xml',\n",
       " '/Users/manasiweginwar/Desktop/Caution_xmlfilesCopy/169.xml',\n",
       " '/Users/manasiweginwar/Desktop/Caution_xmlfilesCopy/97.xml',\n",
       " '/Users/manasiweginwar/Desktop/Caution_xmlfilesCopy/141.xml',\n",
       " '/Users/manasiweginwar/Desktop/Caution_xmlfilesCopy/155.xml',\n",
       " '/Users/manasiweginwar/Desktop/Caution_xmlfilesCopy/93.xml',\n",
       " '/Users/manasiweginwar/Desktop/Caution_xmlfilesCopy/179.xml',\n",
       " '/Users/manasiweginwar/Desktop/Caution_xmlfilesCopy/87.xml',\n",
       " '/Users/manasiweginwar/Desktop/Caution_xmlfilesCopy/151.xml',\n",
       " '/Users/manasiweginwar/Desktop/Caution_xmlfilesCopy/145.xml',\n",
       " '/Users/manasiweginwar/Desktop/Caution_xmlfilesCopy/50.xml',\n",
       " '/Users/manasiweginwar/Desktop/Caution_xmlfilesCopy/2.xml',\n",
       " '/Users/manasiweginwar/Desktop/Caution_xmlfilesCopy/44.xml',\n",
       " '/Users/manasiweginwar/Desktop/Caution_xmlfilesCopy/192.xml',\n",
       " '/Users/manasiweginwar/Desktop/Caution_xmlfilesCopy/186.xml',\n",
       " '/Users/manasiweginwar/Desktop/Caution_xmlfilesCopy/78.xml',\n",
       " '/Users/manasiweginwar/Desktop/Caution_xmlfilesCopy/227.xml',\n",
       " '/Users/manasiweginwar/Desktop/Caution_xmlfilesCopy/233.xml',\n",
       " '/Users/manasiweginwar/Desktop/Caution_xmlfilesCopy/232.xml',\n",
       " '/Users/manasiweginwar/Desktop/Caution_xmlfilesCopy/226.xml',\n",
       " '/Users/manasiweginwar/Desktop/Caution_xmlfilesCopy/187.xml',\n",
       " '/Users/manasiweginwar/Desktop/Caution_xmlfilesCopy/79.xml',\n",
       " '/Users/manasiweginwar/Desktop/Caution_xmlfilesCopy/45.xml',\n",
       " '/Users/manasiweginwar/Desktop/Caution_xmlfilesCopy/51.xml',\n",
       " '/Users/manasiweginwar/Desktop/Caution_xmlfilesCopy/3.xml',\n",
       " '/Users/manasiweginwar/Desktop/Caution_xmlfilesCopy/144.xml',\n",
       " '/Users/manasiweginwar/Desktop/Caution_xmlfilesCopy/150.xml',\n",
       " '/Users/manasiweginwar/Desktop/Caution_xmlfilesCopy/178.xml',\n",
       " '/Users/manasiweginwar/Desktop/Caution_xmlfilesCopy/86.xml',\n",
       " '/Users/manasiweginwar/Desktop/Caution_xmlfilesCopy/92.xml',\n",
       " '/Users/manasiweginwar/Desktop/Caution_xmlfilesCopy/84.xml',\n",
       " '/Users/manasiweginwar/Desktop/Caution_xmlfilesCopy/90.xml',\n",
       " '/Users/manasiweginwar/Desktop/Caution_xmlfilesCopy/146.xml',\n",
       " '/Users/manasiweginwar/Desktop/Caution_xmlfilesCopy/152.xml',\n",
       " '/Users/manasiweginwar/Desktop/Caution_xmlfilesCopy/47.xml',\n",
       " '/Users/manasiweginwar/Desktop/Caution_xmlfilesCopy/1.xml',\n",
       " '/Users/manasiweginwar/Desktop/Caution_xmlfilesCopy/53.xml',\n",
       " '/Users/manasiweginwar/Desktop/Caution_xmlfilesCopy/185.xml',\n",
       " '/Users/manasiweginwar/Desktop/Caution_xmlfilesCopy/191.xml',\n",
       " '/Users/manasiweginwar/Desktop/Caution_xmlfilesCopy/218.xml',\n",
       " '/Users/manasiweginwar/Desktop/Caution_xmlfilesCopy/230.xml',\n",
       " '/Users/manasiweginwar/Desktop/Caution_xmlfilesCopy/224.xml',\n",
       " '/Users/manasiweginwar/Desktop/Caution_xmlfilesCopy/225.xml',\n",
       " '/Users/manasiweginwar/Desktop/Caution_xmlfilesCopy/231.xml',\n",
       " '/Users/manasiweginwar/Desktop/Caution_xmlfilesCopy/219.xml',\n",
       " '/Users/manasiweginwar/Desktop/Caution_xmlfilesCopy/190.xml',\n",
       " '/Users/manasiweginwar/Desktop/Caution_xmlfilesCopy/184.xml',\n",
       " '/Users/manasiweginwar/Desktop/Caution_xmlfilesCopy/0.xml',\n",
       " '/Users/manasiweginwar/Desktop/Caution_xmlfilesCopy/52.xml',\n",
       " '/Users/manasiweginwar/Desktop/Caution_xmlfilesCopy/46.xml',\n",
       " '/Users/manasiweginwar/Desktop/Caution_xmlfilesCopy/153.xml',\n",
       " '/Users/manasiweginwar/Desktop/Caution_xmlfilesCopy/147.xml',\n",
       " '/Users/manasiweginwar/Desktop/Caution_xmlfilesCopy/91.xml',\n",
       " '/Users/manasiweginwar/Desktop/Caution_xmlfilesCopy/85.xml']"
      ]
     },
     "execution_count": 23,
     "metadata": {},
     "output_type": "execute_result"
    }
   ],
   "source": [
    "xmlfiles = glob.glob(\"/Users/manasiweginwar/Desktop/Caution_xmlfilesCopy/*.xml\")\n",
    "xmlfiles"
   ]
  },
  {
   "cell_type": "code",
   "execution_count": 36,
   "metadata": {},
   "outputs": [],
   "source": [
    "file = md.parse(xmlfiles[0])"
   ]
  },
  {
   "cell_type": "code",
   "execution_count": 37,
   "metadata": {},
   "outputs": [
    {
     "name": "stdout",
     "output_type": "stream",
     "text": [
      "/Users/manasiweginwar/Desktop/Caution/Caution162.jpg\n"
     ]
    }
   ],
   "source": [
    "for filename in xmlfiles:\n",
    "    file = md.parse(filename)\n",
    "    oldvalue = file.getElementsByTagName(\"filename\")[0].childNodes[0].nodeValue\n",
    "    newval = \"Caution\" + oldvalue\n",
    "    file.getElementsByTagName(\"filename\")[0].childNodes[0].nodeValue = newval\n",
    "    # print(file.getElementsByTagName(\"filename\")[0].childNodes[0].nodeValue)\n",
    "    #edit path\n",
    "    oldpath = file.getElementsByTagName(\"path\")[0].childNodes[0].nodeValue\n",
    "    newpath = os.path.join(os.path.dirname(oldpath), \"Caution\"+oldpath.split('/')[-1])\n",
    "    # newpath = \"Caution\" + oldpath\n",
    "    # file.getElementsByTagName(\"path\")[0].childNodes[0].nodeValue = newpath\n",
    "    print(newpath)\n",
    "    file.getElementsByTagName(\"path\")[0].childNodes[0].nodeValue = newpath\n",
    "    with open(filename, \"w\" ) as fs:  \n",
    "        fs.write( file.toxml() ) \n",
    "        fs.close() "
   ]
  },
  {
   "cell_type": "code",
   "execution_count": 40,
   "metadata": {},
   "outputs": [],
   "source": [
    "with open(\"/Users/manasiweginwar/Downloads/testxml\", \"w\" ) as fs:  \n",
    "        fs.write( file.toxml() ) \n",
    "        fs.close() "
   ]
  },
  {
   "cell_type": "code",
   "execution_count": 39,
   "metadata": {},
   "outputs": [
    {
     "name": "stdout",
     "output_type": "stream",
     "text": [
      "/Users/manasiweginwar/Desktop/Caution/Caution162.jpg\n",
      "Caution162.jpg\n"
     ]
    }
   ],
   "source": [
    "print(file.getElementsByTagName(\"path\")[0].childNodes[0].nodeValue)\n",
    "print(file.getElementsByTagName(\"filename\")[0].childNodes[0].nodeValue)\n"
   ]
  },
  {
   "cell_type": "markdown",
   "metadata": {},
   "source": [
    "# Renaming xml filenames"
   ]
  },
  {
   "cell_type": "code",
   "execution_count": 45,
   "metadata": {},
   "outputs": [],
   "source": [
    "xmlfiles = glob.glob(\"/Users/manasiweginwar/Desktop/Caution_xmlfilesCopy/*.xml\")"
   ]
  },
  {
   "cell_type": "code",
   "execution_count": 44,
   "metadata": {},
   "outputs": [],
   "source": [
    "for file in xmlfiles:\n",
    "    oldname = os.path.basename(file)\n",
    "    oldpath = os.path.dirname(file)\n",
    "#     print(oldname)\n",
    "    if 'Caution' not in oldname:\n",
    "        newfilename = 'Caution' + oldname\n",
    "#         print(oldname)\n",
    "#         print(newfilename)\n",
    "        newfilenamePath = os.path.join(oldpath, newfilename)\n",
    "#         print(file, newfilenamePath)\n",
    "#         shutil.move(file, newfilenamePath)\n",
    "        "
   ]
  },
  {
   "cell_type": "markdown",
   "metadata": {},
   "source": [
    "# Editing XML file content"
   ]
  },
  {
   "cell_type": "code",
   "execution_count": 49,
   "metadata": {},
   "outputs": [],
   "source": [
    "for filename in xmlfiles:\n",
    "    file = md.parse(filename)\n",
    "    oldvalue = file.getElementsByTagName(\"filename\")[0].childNodes[0].nodeValue\n",
    "    newval = \"Caution\" + oldvalue\n",
    "    file.getElementsByTagName(\"filename\")[0].childNodes[0].nodeValue = newval\n",
    "    # print(file.getElementsByTagName(\"filename\")[0].childNodes[0].nodeValue)\n",
    "    #edit path\n",
    "    oldpath = file.getElementsByTagName(\"path\")[0].childNodes[0].nodeValue\n",
    "    newpath = os.path.join(os.path.dirname(oldpath), \"Caution\"+oldpath.split('/')[-1])\n",
    "    # newpath = \"Caution\" + oldpath\n",
    "    # file.getElementsByTagName(\"path\")[0].childNodes[0].nodeValue = newpath\n",
    "#     print(newpath)\n",
    "    file.getElementsByTagName(\"path\")[0].childNodes[0].nodeValue = newpath\n",
    "#     print(\"XML path tag value:\", file.getElementsByTagName(\"path\")[0].childNodes[0].nodeValue)\n",
    "#     print(\"jpg filename: \", file.getElementsByTagName(\"filename\")[0].childNodes[0].nodeValue)\n",
    "#     print(\"xmlfilepath: \",filename)\n",
    "    with open(filename, \"w\" ) as fs:  \n",
    "        fs.write(file.toxml()) \n",
    "        fs.close() "
   ]
  },
  {
   "cell_type": "code",
   "execution_count": 34,
   "metadata": {},
   "outputs": [],
   "source": [
    "oldcaution = glob.glob(\"/Users/manasiweginwar/Desktop/Caution/*\")\n",
    "xmlcaution = glob.glob(\"/Users/manasiweginwar/Desktop/Caution_xmlfilesCopy/*\")"
   ]
  },
  {
   "cell_type": "code",
   "execution_count": 35,
   "metadata": {},
   "outputs": [],
   "source": [
    "xmlcaution = [os.path.basename(f).split(\".\")[0] for f in xmlcaution]\n",
    "oldcaution = [os.path.basename(f).split(\".\")[0] for f in oldcaution]\n",
    "# print(\"xmlfile:\", xmlcaution[0])\n",
    "# print(\"oldcaution:\", oldcaution[0])"
   ]
  },
  {
   "cell_type": "code",
   "execution_count": 37,
   "metadata": {},
   "outputs": [],
   "source": [
    "# for fi in xmlcaution:\n",
    "#     if fi not in oldcaution:\n",
    "#         print(fi)"
   ]
  },
  {
   "cell_type": "code",
   "execution_count": null,
   "metadata": {},
   "outputs": [],
   "source": []
  },
  {
   "cell_type": "code",
   "execution_count": null,
   "metadata": {},
   "outputs": [],
   "source": [
    "\n",
    "    "
   ]
  },
  {
   "cell_type": "code",
   "execution_count": 9,
   "metadata": {},
   "outputs": [
    {
     "data": {
      "text/plain": [
       "248"
      ]
     },
     "execution_count": 9,
     "metadata": {},
     "output_type": "execute_result"
    }
   ],
   "source": [
    "len(oldcaution)"
   ]
  },
  {
   "cell_type": "code",
   "execution_count": 10,
   "metadata": {},
   "outputs": [
    {
     "data": {
      "text/plain": [
       "248"
      ]
     },
     "execution_count": 10,
     "metadata": {},
     "output_type": "execute_result"
    }
   ],
   "source": [
    "len(xmlcaution)"
   ]
  },
  {
   "cell_type": "code",
   "execution_count": null,
   "metadata": {},
   "outputs": [],
   "source": []
  }
 ],
 "metadata": {
  "kernelspec": {
   "display_name": "Python 3",
   "language": "python",
   "name": "python3"
  },
  "language_info": {
   "codemirror_mode": {
    "name": "ipython",
    "version": 3
   },
   "file_extension": ".py",
   "mimetype": "text/x-python",
   "name": "python",
   "nbconvert_exporter": "python",
   "pygments_lexer": "ipython3",
   "version": "3.7.6"
  }
 },
 "nbformat": 4,
 "nbformat_minor": 4
}
